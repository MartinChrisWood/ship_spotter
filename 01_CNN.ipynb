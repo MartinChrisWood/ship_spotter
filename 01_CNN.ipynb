{
 "cells": [
  {
   "attachments": {},
   "cell_type": "markdown",
   "metadata": {},
   "source": [
    "# Basic Pipeline"
   ]
  },
  {
   "cell_type": "code",
   "execution_count": null,
   "metadata": {},
   "outputs": [],
   "source": []
  }
 ],
 "metadata": {
  "language_info": {
   "name": "python",
   "version": "3.10.9 (main, Dec 15 2022, 10:44:50) [Clang 14.0.0 (clang-1400.0.29.202)]"
  },
  "vscode": {
   "interpreter": {
    "hash": "9fcc4401f6cbc57dcd7807fa5ff1a0d07284a075e8329a5d7d45368ab61a99cd"
   }
  }
 },
 "nbformat": 4,
 "nbformat_minor": 2
}
