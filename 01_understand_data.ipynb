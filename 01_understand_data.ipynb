{
 "cells": [
  {
   "attachments": {},
   "cell_type": "markdown",
   "metadata": {},
   "source": [
    "# Basic Pipeline"
   ]
  },
  {
   "cell_type": "code",
   "execution_count": null,
   "metadata": {},
   "outputs": [],
   "source": [
    "import json\n",
    "from random import random\n",
    "\n",
    "import matplotlib.pyplot as plt\n",
    "import numpy as np\n",
    "from keras.preprocessing.image import ImageDataGenerator"
   ]
  },
  {
   "cell_type": "code",
   "execution_count": null,
   "metadata": {},
   "outputs": [],
   "source": [
    "def quick_plot_img(data, x_dim=80, y_dim=80, layer_dim=3, order=\"F\"):\n",
    "    \"\"\"\n",
    "    Helper, plot image quickly, assumes 1D input or array or list.\n",
    "    The default values are all for this specific project's dataset.\n",
    "    \"\"\"\n",
    "    img = np.reshape(np.array(data), (x_dim, y_dim, layer_dim), order=order)\n",
    "    plt.imshow((img))\n",
    "\n",
    "\n",
    "def format_img(data, x_dim=80, y_dim=80, layer_dim=3, order=\"F\"):\n",
    "    \"\"\"Helper, reshape 1D input data into an appropriate numpy array\"\"\"\n",
    "    return np.reshape(\n",
    "        np.array(data), (len(data), x_dim, y_dim, 3), order=order\n",
    "    )  # noqa:E501\n",
    "\n",
    "\n",
    "def train_test_validation_split(\n",
    "    X: iter, y: iter, train_size: float = 0.8, validation=True\n",
    "):\n",
    "    \"\"\"\n",
    "    Splits features and labels at random, roughly,\n",
    "    into training, validation and test sets.\n",
    "\n",
    "    Args:\n",
    "        X (iter): Features iterable\n",
    "        y (iter): Labels iterable\n",
    "        train_size (float, optional): Fraction to end up in training set.\n",
    "            Defaults to 0.8.\n",
    "        validation (bool, optional): Wether to split the test set further\n",
    "            into test and validation. Defaults to True.\n",
    "\n",
    "    Returns:\n",
    "        tuple: training, validation and test features and labels.\n",
    "    \"\"\"\n",
    "    train_set_index = [x for x in range(len(y)) if random() <= train_size]\n",
    "\n",
    "    train_X = []\n",
    "    train_y = []\n",
    "    val_X = []\n",
    "    val_y = []\n",
    "    test_X = []\n",
    "    test_y = []\n",
    "\n",
    "    for i in range(len(y)):\n",
    "        if i in train_set_index:\n",
    "            train_X.append(X[i])\n",
    "            train_y.append(y[i])\n",
    "\n",
    "        elif validation & (random() > 0.5):\n",
    "            val_X.append(X[i])\n",
    "            val_y.append(y[i])\n",
    "\n",
    "        else:\n",
    "            test_X.append(X[i])\n",
    "            test_y.append(y[i])\n",
    "\n",
    "    # Report the result - it's random so someone might want to retry\n",
    "    stats = (\n",
    "        f\"train: {len(train_X)}, \"\n",
    "        + f\"validation: {len(val_X)}, \"\n",
    "        + f\"test: {len(test_X)}\"\n",
    "    )\n",
    "    print(stats)\n",
    "\n",
    "    if len(val_X) > 0:\n",
    "        return (train_X, train_y, val_X, val_y, test_X, test_y)\n",
    "    return (train_X, train_y, test_X, test_y)"
   ]
  },
  {
   "cell_type": "code",
   "execution_count": null,
   "metadata": {},
   "outputs": [],
   "source": [
    "with open(\"data/shipsnet.json\", \"r\") as f:\n",
    "    data = json.load(f)\n",
    "\n",
    "# Data structure\n",
    "print([key for key in data.keys()])\n",
    "\n",
    "# Check labels\n",
    "print(data[\"labels\"][:10], data[\"labels\"][-10:])\n",
    "\n",
    "# Check labels split\n",
    "print(\"True: \", sum([i == 1 for i in data[\"labels\"]]))\n",
    "print(\"False: \", sum([i == 0 for i in data[\"labels\"]]))\n",
    "\n",
    "# Plot an example\n",
    "quick_plot_img(data[\"data\"][5])"
   ]
  },
  {
   "cell_type": "code",
   "execution_count": null,
   "metadata": {},
   "outputs": [],
   "source": [
    "train_X, train_y, val_X, val_y, test_X, test_y = train_test_validation_split(\n",
    "    data[\"data\"], data[\"labels\"]\n",
    ")"
   ]
  },
  {
   "attachments": {},
   "cell_type": "markdown",
   "metadata": {},
   "source": [
    "## 2. Make data generators (implements data augmentation steps)"
   ]
  },
  {
   "cell_type": "code",
   "execution_count": null,
   "metadata": {},
   "outputs": [],
   "source": [
    "train_datagen = ImageDataGenerator(\n",
    "    rescale=1.0 / 255,\n",
    "    rotation_range=20,\n",
    "    width_shift_range=0.2,\n",
    "    height_shift_range=0.2,\n",
    "    horizontal_flip=True,\n",
    "    vertical_flip=True,\n",
    "    validation_split=0.2,\n",
    ")\n",
    "\n",
    "# For test, no point in augmentation\n",
    "test_datagen = ImageDataGenerator(rescale=1.0 / 255)\n",
    "\n",
    "train_datagen.fit(train_X)"
   ]
  },
  {
   "cell_type": "code",
   "execution_count": null,
   "metadata": {},
   "outputs": [],
   "source": [
    "train_y[0]"
   ]
  },
  {
   "cell_type": "code",
   "execution_count": null,
   "metadata": {},
   "outputs": [],
   "source": [
    "test = format_img(data[\"data\"])\n",
    "quick_plot_img(test[0])"
   ]
  },
  {
   "cell_type": "code",
   "execution_count": null,
   "metadata": {},
   "outputs": [],
   "source": []
  }
 ],
 "metadata": {
  "language_info": {
   "codemirror_mode": {
    "name": "ipython",
    "version": 3
   },
   "file_extension": ".py",
   "mimetype": "text/x-python",
   "name": "python",
   "nbconvert_exporter": "python",
   "pygments_lexer": "ipython3",
   "version": "3.10.9"
  },
  "vscode": {
   "interpreter": {
    "hash": "9fcc4401f6cbc57dcd7807fa5ff1a0d07284a075e8329a5d7d45368ab61a99cd"
   }
  }
 },
 "nbformat": 4,
 "nbformat_minor": 2
}
